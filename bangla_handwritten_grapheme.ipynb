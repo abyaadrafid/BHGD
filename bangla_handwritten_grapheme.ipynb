{
  "nbformat": 4,
  "nbformat_minor": 0,
  "metadata": {
    "kernelspec": {
      "name": "python3",
      "display_name": "Python 3"
    },
    "language_info": {
      "codemirror_mode": {
        "name": "ipython",
        "version": 3
      },
      "file_extension": ".py",
      "mimetype": "text/x-python",
      "name": "python",
      "nbconvert_exporter": "python",
      "pygments_lexer": "ipython3",
      "version": "3.6.6"
    },
    "colab": {
      "name": "bangla-handwritten-grapheme.ipynb",
      "provenance": [],
      "collapsed_sections": [],
      "machine_shape": "hm",
      "include_colab_link": true
    },
    "accelerator": "GPU"
  },
  "cells": [
    {
      "cell_type": "markdown",
      "metadata": {
        "id": "view-in-github",
        "colab_type": "text"
      },
      "source": [
        "<a href=\"https://colab.research.google.com/github/abyaadrafid/BHGD/blob/master/bangla_handwritten_grapheme.ipynb\" target=\"_parent\"><img src=\"https://colab.research.google.com/assets/colab-badge.svg\" alt=\"Open In Colab\"/></a>"
      ]
    },
    {
      "cell_type": "code",
      "metadata": {
        "id": "jwHHk_9PRbgK",
        "colab_type": "code",
        "colab": {}
      },
      "source": [
        "from PIL import Image\n",
        "import math\n",
        "import numpy as np\n",
        "import pandas as pd\n",
        "import matplotlib.pyplot as plt\n",
        "import torch\n",
        "import torch.nn as nn\n",
        "import torch.optim as optim\n",
        "from torch.utils.data import Dataset, DataLoader, Subset, WeightedRandomSampler, TensorDataset\n",
        "from sklearn.model_selection import train_test_split\n",
        "from tqdm import tqdm_notebook\n",
        "import torchvision\n",
        "from torchvision import transforms\n",
        "from torchvision import models\n",
        "from collections import Counter\n",
        "from pathlib import Path\n",
        "from sklearn.metrics import confusion_matrix, recall_score\n",
        "import seaborn as sn\n",
        "# !pip install torchsummary \n",
        "# import torchsummary"
      ],
      "execution_count": 0,
      "outputs": []
    },
    {
      "cell_type": "code",
      "metadata": {
        "id": "1uc7us0cRbgO",
        "colab_type": "code",
        "outputId": "1d3d55d7-5f13-4072-cf19-ba9fd966dfad",
        "colab": {
          "base_uri": "https://localhost:8080/",
          "height": 173
        }
      },
      "source": [
        "print(*torch.__config__.show().split(\"\\n\"), sep=\"\\n\")"
      ],
      "execution_count": 4,
      "outputs": [
        {
          "output_type": "stream",
          "text": [
            "PyTorch built with:\n",
            "  - GCC 7.3\n",
            "  - Intel(R) Math Kernel Library Version 2019.0.4 Product Build 20190411 for Intel(R) 64 architecture applications\n",
            "  - Intel(R) MKL-DNN v0.20.5 (Git Hash 0125f28c61c1f822fd48570b4c1066f96fcb9b2e)\n",
            "  - OpenMP 201511 (a.k.a. OpenMP 4.5)\n",
            "  - NNPACK is enabled\n",
            "  - Build settings: BLAS=MKL, BUILD_NAMEDTENSOR=OFF, BUILD_TYPE=Release, CXX_FLAGS= -Wno-deprecated -fvisibility-inlines-hidden -fopenmp -DUSE_FBGEMM -DUSE_QNNPACK -DUSE_PYTORCH_QNNPACK -O2 -fPIC -Wno-narrowing -Wall -Wextra -Wno-missing-field-initializers -Wno-type-limits -Wno-array-bounds -Wno-unknown-pragmas -Wno-sign-compare -Wno-unused-parameter -Wno-unused-variable -Wno-unused-function -Wno-unused-result -Wno-strict-overflow -Wno-strict-aliasing -Wno-error=deprecated-declarations -Wno-stringop-overflow -Wno-error=pedantic -Wno-error=redundant-decls -Wno-error=old-style-cast -fdiagnostics-color=always -faligned-new -Wno-unused-but-set-variable -Wno-maybe-uninitialized -fno-math-errno -fno-trapping-math -Wno-stringop-overflow, DISABLE_NUMA=1, PERF_WITH_AVX=1, PERF_WITH_AVX2=1, PERF_WITH_AVX512=1, USE_CUDA=True, USE_EXCEPTION_PTR=1, USE_GFLAGS=OFF, USE_GLOG=OFF, USE_MKL=ON, USE_MKLDNN=ON, USE_MPI=OFF, USE_NCCL=ON, USE_NNPACK=ON, USE_OPENMP=ON, USE_STATIC_DISPATCH=OFF, \n",
            "\n"
          ],
          "name": "stdout"
        }
      ]
    },
    {
      "cell_type": "code",
      "metadata": {
        "id": "Hb4BjgmERbgR",
        "colab_type": "code",
        "outputId": "0a7e31dd-52ea-423a-e539-d17dde5845ae",
        "colab": {
          "base_uri": "https://localhost:8080/",
          "height": 34
        }
      },
      "source": [
        "torch.get_num_threads()"
      ],
      "execution_count": 5,
      "outputs": [
        {
          "output_type": "execute_result",
          "data": {
            "text/plain": [
              "2"
            ]
          },
          "metadata": {
            "tags": []
          },
          "execution_count": 5
        }
      ]
    },
    {
      "cell_type": "code",
      "metadata": {
        "id": "YsKDW8kCRbgT",
        "colab_type": "code",
        "colab": {}
      },
      "source": [
        "torch.set_num_threads(4)"
      ],
      "execution_count": 0,
      "outputs": []
    },
    {
      "cell_type": "code",
      "metadata": {
        "id": "FQFy2z7BRbgV",
        "colab_type": "code",
        "colab": {}
      },
      "source": [
        "device = torch.device('cuda:0' if torch.cuda.is_available() else 'cpu')"
      ],
      "execution_count": 0,
      "outputs": []
    },
    {
      "cell_type": "code",
      "metadata": {
        "id": "K8FtXOouS_T-",
        "colab_type": "code",
        "outputId": "61e8e9a3-844d-4f88-e376-0c02a992ff17",
        "colab": {
          "base_uri": "https://localhost:8080/",
          "height": 122
        }
      },
      "source": [
        "from google.colab import drive\n",
        "drive.mount('/content/gdrive')"
      ],
      "execution_count": 8,
      "outputs": [
        {
          "output_type": "stream",
          "text": [
            "Go to this URL in a browser: https://accounts.google.com/o/oauth2/auth?client_id=947318989803-6bn6qk8qdgf4n4g3pfee6491hc0brc4i.apps.googleusercontent.com&redirect_uri=urn%3aietf%3awg%3aoauth%3a2.0%3aoob&response_type=code&scope=email%20https%3a%2f%2fwww.googleapis.com%2fauth%2fdocs.test%20https%3a%2f%2fwww.googleapis.com%2fauth%2fdrive%20https%3a%2f%2fwww.googleapis.com%2fauth%2fdrive.photos.readonly%20https%3a%2f%2fwww.googleapis.com%2fauth%2fpeopleapi.readonly\n",
            "\n",
            "Enter your authorization code:\n",
            "··········\n",
            "Mounted at /content/gdrive\n"
          ],
          "name": "stdout"
        }
      ]
    },
    {
      "cell_type": "code",
      "metadata": {
        "_cell_guid": "",
        "_uuid": "",
        "id": "LLzQUSEtRbgX",
        "colab_type": "code",
        "colab": {}
      },
      "source": [
        "df_train = pd.read_csv('/content/gdrive/My Drive/kaggle/train.csv')\n",
        "df_test = pd.read_csv('/content/gdrive/My Drive/kaggle/test.csv')\n",
        "df_class = pd.read_csv('/content/gdrive/My Drive/kaggle/class_map.csv')\n",
        "df_submission = pd.read_csv('/content/gdrive/My Drive/kaggle/sample_submission.csv')"
      ],
      "execution_count": 0,
      "outputs": []
    },
    {
      "cell_type": "code",
      "metadata": {
        "id": "QKu-xekfRbgY",
        "colab_type": "code",
        "colab": {}
      },
      "source": [
        "def make_tensordataset_from_dfs(parquet_locs, label_loc=None):\n",
        "    ids = []\n",
        "    X = []\n",
        "#     parquet_locs = notebook.tqdm(parquet_locs)\n",
        "    for parquet_loc in parquet_locs:\n",
        "        df = pd.read_parquet(parquet_loc)\n",
        "        ids.extend(df.image_id.tolist())\n",
        "        x = df.iloc[:, 1:].to_numpy(dtype=np.uint8)\n",
        "        del df\n",
        "        X.append(x)\n",
        "    X = np.vstack(X)\n",
        "    X = X.reshape(-1, 1, 137, 236)\n",
        "    X = torch.from_numpy(X)\n",
        "    ids = dict((s,i) for (i,s) in enumerate(ids))\n",
        "    if label_loc is None:\n",
        "        return TensorDataset(X)\n",
        "    else:\n",
        "        graphemes = torch.zeros(X.shape[0], dtype=torch.long)\n",
        "        vowel_diacs = torch.zeros(X.shape[0], dtype=torch.long)\n",
        "        consonant_diacs = torch.zeros(X.shape[0], dtype=torch.long)\n",
        "        lbl_df = pd.read_csv(label_loc)\n",
        "        for row in lbl_df.itertuples():\n",
        "            if row.image_id not in ids:\n",
        "                continue\n",
        "            idx = ids[row.image_id]\n",
        "            graphemes[idx] = row.grapheme_root\n",
        "            vowel_diacs[idx] = row.vowel_diacritic\n",
        "            consonant_diacs[idx] = row.consonant_diacritic\n",
        "        return TensorDataset(X, graphemes, vowel_diacs, consonant_diacs)"
      ],
      "execution_count": 0,
      "outputs": []
    },
    {
      "cell_type": "code",
      "metadata": {
        "id": "X86W3Sa3Rbga",
        "colab_type": "code",
        "colab": {}
      },
      "source": [
        "ds = make_tensordataset_from_dfs(['/content/gdrive/My Drive/kaggle/train_image_data_{}.parquet'.format(i) for i in range(4)], '/content/gdrive/My Drive/kaggle/train.csv')"
      ],
      "execution_count": 0,
      "outputs": []
    },
    {
      "cell_type": "code",
      "metadata": {
        "id": "us0E_R85Rbgc",
        "colab_type": "code",
        "outputId": "2f8aee77-d527-47e8-80c7-40445d2800b9",
        "colab": {
          "base_uri": "https://localhost:8080/",
          "height": 331
        }
      },
      "source": [
        "plt.imshow(ds[100000][0].permute(1, 2, 0).reshape(137, 236), cmap='gray', vmin=0, vmax=255)\n",
        "ds[100000][1], ds[100000][2], ds[100000][3], ds[100000][0].max(), ds[100000][0].min()"
      ],
      "execution_count": 12,
      "outputs": [
        {
          "output_type": "execute_result",
          "data": {
            "text/plain": [
              "(tensor(72),\n",
              " tensor(4),\n",
              " tensor(0),\n",
              " tensor(255, dtype=torch.uint8),\n",
              " tensor(34, dtype=torch.uint8))"
            ]
          },
          "metadata": {
            "tags": []
          },
          "execution_count": 12
        },
        {
          "output_type": "display_data",
          "data": {
            "image/png": "[encoded data removed]",
            "text/plain": [
              "<Figure size 432x288 with 1 Axes>"
            ]
          },
          "metadata": {
            "tags": []
          }
        }
      ]
    },
    {
      "cell_type": "code",
      "metadata": {
        "id": "PCjI0lpFRbgd",
        "colab_type": "code",
        "colab": {}
      },
      "source": [
        "# tmp = torch.nonzero(ds[100000][0] < 100)"
      ],
      "execution_count": 0,
      "outputs": []
    },
    {
      "cell_type": "code",
      "metadata": {
        "id": "2FdCjEm3Rbgf",
        "colab_type": "code",
        "colab": {}
      },
      "source": [
        "# tmp[:, 1].max(), tmp[:, 1].min(), tmp[:, 2].max(), tmp[:, 2].min()"
      ],
      "execution_count": 0,
      "outputs": []
    },
    {
      "cell_type": "code",
      "metadata": {
        "id": "Wm46m6T8Rbgh",
        "colab_type": "code",
        "colab": {}
      },
      "source": [
        "tr_indices, va_indices = train_test_split(list(range(len(ds))), test_size=.1, train_size=.9, random_state=42)#, stratify=ds.tensors[1])"
      ],
      "execution_count": 0,
      "outputs": []
    },
    {
      "cell_type": "code",
      "metadata": {
        "id": "f6BfUiEiRbgi",
        "colab_type": "code",
        "colab": {}
      },
      "source": [
        "tr_ds = Subset(ds, tr_indices)\n",
        "va_ds = Subset(ds, va_indices)"
      ],
      "execution_count": 0,
      "outputs": []
    },
    {
      "cell_type": "code",
      "metadata": {
        "id": "VuHNS7gFRbgm",
        "colab_type": "code",
        "outputId": "4c12e8d6-a37c-42e0-86fc-01332fa9474c",
        "colab": {
          "base_uri": "https://localhost:8080/",
          "height": 34
        }
      },
      "source": [
        "len(ds), len(tr_ds), len(va_ds)"
      ],
      "execution_count": 17,
      "outputs": [
        {
          "output_type": "execute_result",
          "data": {
            "text/plain": [
              "(200840, 180756, 20084)"
            ]
          },
          "metadata": {
            "tags": []
          },
          "execution_count": 17
        }
      ]
    },
    {
      "cell_type": "code",
      "metadata": {
        "id": "9Q-TqnJjRbgp",
        "colab_type": "code",
        "colab": {}
      },
      "source": [
        "n_graphemes, n_vowel_diacs, n_consonant_diacs = len(set(df_train['grapheme_root'])), len(set(df_train['vowel_diacritic'])), len(set(df_train['consonant_diacritic']))"
      ],
      "execution_count": 0,
      "outputs": []
    },
    {
      "cell_type": "code",
      "metadata": {
        "id": "Aeexh7pBRbgq",
        "colab_type": "code",
        "colab": {}
      },
      "source": [
        "def make_linear_block(in_size, out_size):\n",
        "    block = nn.Sequential(\n",
        "        nn.Linear(in_size, out_size), \n",
        "        nn.ReLU(), \n",
        "        nn.BatchNorm1d(num_features=out_size),\n",
        "    )\n",
        "    nn.init.xavier_normal_(block[0].weight.data)\n",
        "    nn.init.zeros_(block[0].bias.data)\n",
        "    return block\n",
        "\n",
        "def make_ff_predictor(in_size, intermediate_size, out_size, layer_count):\n",
        "    layers = [make_linear_block(in_size, intermediate_size)]\n",
        "    for i in range(layer_count):\n",
        "        layers.append(make_linear_block(intermediate_size, intermediate_size))\n",
        "    layers.append(nn.Linear(intermediate_size, out_size))\n",
        "    layers = nn.Sequential(*layers)\n",
        "    return layers\n",
        "\n",
        "class BanglaHandwrittenGraphemeNN(nn.Module):\n",
        "    def __init__(self):\n",
        "        super(BanglaHandwrittenGraphemeNN, self).__init__()\n",
        "#         base = models.squeezenet1_0(pretrained=True).features\n",
        "        base = models.resnet18(pretrained=False)\n",
        "        base.fc = nn.Identity()\n",
        "        self.base = base\n",
        "        feature_size = 512\n",
        "        self.grapheme_predictor = make_ff_predictor(feature_size, 512, n_graphemes, 2)\n",
        "        self.vowel_diac_predictor = make_ff_predictor(feature_size, 512, n_vowel_diacs, 1)\n",
        "        self.consonant_diacs = make_ff_predictor(feature_size, 512, n_consonant_diacs, 1)\n",
        "\n",
        "    def convert_to_grayscale(self):\n",
        "        with torch.no_grad():\n",
        "            conv1 = nn.Conv2d(3, 64, kernel_size=(7, 7), stride=(2, 2), padding=(3, 3), bias=False)\n",
        "            conv1.weight.data = torch.sum(model.base.conv1.weight.data, dim=1, keepdim=True)\n",
        "            self.base.conv1 = conv1\n",
        "            \n",
        "    def freeze(self):\n",
        "        for p in self.base.parameters():\n",
        "            p.requires_grad = False\n",
        "        \n",
        "    def unfreeze(self):\n",
        "        for p in self.base.parameters():\n",
        "            p.requires_grad = True\n",
        "        \n",
        "    def forward(self, x):\n",
        "#         with torch.no_grad():\n",
        "        features = self.base(x)\n",
        "        g_pred = self.grapheme_predictor(features)\n",
        "        v_pred = self.vowel_diac_predictor(features)\n",
        "        c_pred = self.consonant_diacs(features)\n",
        "        return g_pred, v_pred, c_pred"
      ],
      "execution_count": 0,
      "outputs": []
    },
    {
      "cell_type": "code",
      "metadata": {
        "id": "giZTNo1ORbgs",
        "colab_type": "code",
        "colab": {}
      },
      "source": [
        "class MultiTaskLoss(nn.Module):\n",
        "    def __init__(self, num_tasks, init_weight=None):\n",
        "        super(MultiTaskLoss, self).__init__()\n",
        "        self.n = num_tasks\n",
        "        if init_weight is None:\n",
        "            self.w = nn.Parameter(torch.ones(self.n))\n",
        "        else:\n",
        "            self.w = nn.Parameter(torch.tensor(init_weight))\n",
        "\n",
        "    def forward(self, losses):\n",
        "        return torch.sum(self.w * losses) - torch.sum(torch.sum(torch.log(self.w)))"
      ],
      "execution_count": 0,
      "outputs": []
    },
    {
      "cell_type": "code",
      "metadata": {
        "id": "G_WmI9AERbgt",
        "colab_type": "code",
        "colab": {}
      },
      "source": [
        "model = BanglaHandwrittenGraphemeNN().to(device)"
      ],
      "execution_count": 0,
      "outputs": []
    },
    {
      "cell_type": "code",
      "metadata": {
        "id": "eRU9-IN1Rbgv",
        "colab_type": "code",
        "colab": {}
      },
      "source": [
        "model.convert_to_grayscale()"
      ],
      "execution_count": 0,
      "outputs": []
    },
    {
      "cell_type": "code",
      "metadata": {
        "id": "36BkSMjoRbgw",
        "colab_type": "code",
        "colab": {}
      },
      "source": [
        "model.unfreeze()"
      ],
      "execution_count": 0,
      "outputs": []
    },
    {
      "cell_type": "code",
      "metadata": {
        "id": "YDdzbim9Rbgz",
        "colab_type": "code",
        "colab": {}
      },
      "source": [
        "tr_dl = DataLoader(tr_ds, batch_size=256, num_workers=0,shuffle=True)\n",
        "va_dl = DataLoader(va_ds, batch_size=256, num_workers=0)"
      ],
      "execution_count": 0,
      "outputs": []
    },
    {
      "cell_type": "code",
      "metadata": {
        "id": "Tas4hCWzTYP4",
        "colab_type": "code",
        "colab": {}
      },
      "source": [
        "def mixup_data(x, y, alpha=1.0, use_cuda=True):\n",
        "    '''Returns mixed inputs, pairs of targets, and lambda'''\n",
        "    if alpha > 0:\n",
        "        lam = np.random.beta(alpha, alpha)\n",
        "    else:\n",
        "        lam = 1\n",
        "\n",
        "    batch_size = x.size()[0]\n",
        "    if use_cuda:\n",
        "        index = torch.randperm(batch_size).cuda()\n",
        "    else:\n",
        "        index = torch.randperm(batch_size)\n",
        "\n",
        "    mixed_x = lam * x + (1 - lam) * x[index, :]\n",
        "    y_a, y_b = y, y[index]\n",
        "    return mixed_x, y_a, y_b, lam\n",
        "\n",
        "\n",
        "def mixup_criterion(criterion, pred, y_a, y_b, lam):\n",
        "    return lam * criterion(pred, y_a) + (1 - lam) * criterion(pred, y_b)"
      ],
      "execution_count": 0,
      "outputs": []
    },
    {
      "cell_type": "code",
      "metadata": {
        "id": "mGP9R60-Rbg4",
        "colab_type": "code",
        "colab": {}
      },
      "source": [
        "criterion = nn.CrossEntropyLoss()"
      ],
      "execution_count": 0,
      "outputs": []
    },
    {
      "cell_type": "code",
      "metadata": {
        "id": "7Mi4HOUHRbg8",
        "colab_type": "code",
        "colab": {}
      },
      "source": [
        "tr_losses = []\n",
        "va_losses = []"
      ],
      "execution_count": 0,
      "outputs": []
    },
    {
      "cell_type": "code",
      "metadata": {
        "id": "dkFdKsuJRbg9",
        "colab_type": "code",
        "colab": {}
      },
      "source": [
        "mean = lambda l: sum(l) / len(l)"
      ],
      "execution_count": 0,
      "outputs": []
    },
    {
      "cell_type": "code",
      "metadata": {
        "id": "Fmm0ZAILBXwz",
        "colab_type": "code",
        "colab": {}
      },
      "source": [
        "optimizer = optim.Adam(model.parameters(), lr=1e-4)"
      ],
      "execution_count": 0,
      "outputs": []
    },
    {
      "cell_type": "code",
      "metadata": {
        "colab_type": "code",
        "id": "yehTeKvKsnmR",
        "colab": {}
      },
      "source": [
        ""
      ],
      "execution_count": 0,
      "outputs": []
    },
    {
      "cell_type": "code",
      "metadata": {
        "colab_type": "code",
        "id": "hBinXRYXs6tn",
        "colab": {}
      },
      "source": [
        ""
      ],
      "execution_count": 0,
      "outputs": []
    },
    {
      "cell_type": "code",
      "metadata": {
        "id": "51S1GwosRbg_",
        "colab_type": "code",
        "colab": {}
      },
      "source": [
        "def run_epochs(num_epochs):\n",
        "  epochs = range(num_epochs)\n",
        "  epochs = tqdm_notebook(range(num_epochs))\n",
        "  for epoch in epochs:\n",
        "      model.train()\n",
        "      count = 0\n",
        "      batches = tr_dl\n",
        "      batches = tqdm_notebook(tr_dl)\n",
        "      for batch in batches:\n",
        "          count += 1\n",
        "          optimizer.zero_grad()\n",
        "          img, g, v, c = batch\n",
        "          img, g, v, c = img.to(device), g.to(device), v.to(device), c.to(device)\n",
        "          img = img / 255.0\n",
        "          img,g_a,g_b,lam=mixup_data(img,g,alpha=0.25)\n",
        "          img,v_a,v_b,lam=mixup_data(img,g,alpha=0.0)\n",
        "          img,c_a,c_b,lam=mixup_data(img,g,alpha=0.0)\n",
        "\n",
        "          g_pred, v_pred, c_pred = model(img)\n",
        "          g_loss = mixup_criterion(criterion,g_pred, g_a,g_b,lam)\n",
        "          v_loss = criterion(v_pred,v)\n",
        "          c_loss = criterion(c_pred,c)\n",
        "          loss = g_loss + v_loss + c_loss\n",
        "          loss.backward()\n",
        "          optimizer.step()\n",
        "          tr_losses.append((g_loss.item(), v_loss.item(), c_loss.item()))\n",
        "      print(mean([sum(t) for t in tr_losses]), mean([t[0] for t in tr_losses]), mean([t[1] for t in tr_losses]), mean([t[2] for t in tr_losses]))\n",
        "      with torch.no_grad():\n",
        "          model.eval()\n",
        "          avg_g_loss = 0.0\n",
        "          avg_v_loss = 0.0\n",
        "          avg_c_loss = 0.0\n",
        "          g_true = []\n",
        "          v_true = []\n",
        "          c_true = []\n",
        "          g_preds = []\n",
        "          v_preds = []\n",
        "          c_preds = []\n",
        "          count = 0\n",
        "          batches = va_dl\n",
        "          batches = tqdm_notebook(va_dl)\n",
        "          for batch in batches:\n",
        "              count += 1\n",
        "              img, g, v, c = batch\n",
        "              img, g, v, c = img.to(device), g.to(device), v.to(device), c.to(device)\n",
        "              img = img / 255.0\n",
        "              img,g_a,g_b,lam=mixup_data(img,g,alpha=0.25)\n",
        "              g_pred, v_pred, c_pred = model(img)\n",
        "              g_loss = mixup_criterion(criterion,g_pred, g_a,g_b,lam)\n",
        "              v_loss = criterion(v_pred,v)\n",
        "              c_loss = criterion(c_pred,c)\n",
        "              avg_g_loss += g_loss.item()\n",
        "              avg_v_loss += v_loss.item()\n",
        "              avg_c_loss += c_loss.item()\n",
        "              g_true.extend(g.tolist())\n",
        "              v_true.extend(v.tolist())\n",
        "              c_true.extend(c.tolist())\n",
        "              g_preds.extend(g_pred.argmax(1).tolist())\n",
        "              v_preds.extend(v_pred.argmax(1).tolist())\n",
        "              c_preds.extend(c_pred.argmax(1).tolist())\n",
        "          avg_g_loss /= count\n",
        "          avg_v_loss /= count\n",
        "          avg_c_loss /= count\n",
        "          va_losses.append((avg_g_loss, avg_v_loss, avg_c_loss))\n",
        "          print(sum(va_losses[-1]), va_losses[-1])\n",
        "          \n",
        "          print(recall_score(g_true, g_preds, average='macro'))\n",
        "          print(recall_score(v_true, v_preds, average='macro'))\n",
        "          print(recall_score(c_true, c_preds, average='macro'))\n",
        "          print(confusion_matrix(v_true, v_preds))\n",
        "          print(confusion_matrix(c_true, c_preds))\n",
        "          plt.figure(figsize = (20, 20))\n",
        "          sn.heatmap(np.log1p(confusion_matrix(g_true, g_preds)))\n",
        "          plt.show()"
      ],
      "execution_count": 0,
      "outputs": []
    },
    {
      "cell_type": "code",
      "metadata": {
        "id": "efs7urH0W0Yr",
        "colab_type": "code",
        "colab": {}
      },
      "source": [
        "run_epochs(4)"
      ],
      "execution_count": 0,
      "outputs": []
    },
    {
      "cell_type": "code",
      "metadata": {
        "id": "z6iCLGPU4pyL",
        "colab_type": "code",
        "colab": {}
      },
      "source": [
        "run_epochs(3)"
      ],
      "execution_count": 0,
      "outputs": []
    },
    {
      "cell_type": "code",
      "metadata": {
        "id": "8ewImX4nRbhA",
        "colab_type": "code",
        "colab": {}
      },
      "source": [
        "plt.plot([sum(t) for t in tr_losses])"
      ],
      "execution_count": 0,
      "outputs": []
    },
    {
      "cell_type": "code",
      "metadata": {
        "id": "P57ihbHxRbhC",
        "colab_type": "code",
        "colab": {}
      },
      "source": [
        "plt.plot([t[0] for t in tr_losses])"
      ],
      "execution_count": 0,
      "outputs": []
    },
    {
      "cell_type": "code",
      "metadata": {
        "id": "RqH8DyoyRbhE",
        "colab_type": "code",
        "colab": {}
      },
      "source": [
        "plt.plot([t[1] for t in tr_losses])"
      ],
      "execution_count": 0,
      "outputs": []
    },
    {
      "cell_type": "code",
      "metadata": {
        "id": "6vUj0cEMRbhG",
        "colab_type": "code",
        "colab": {}
      },
      "source": [
        "plt.plot([t[2] for t in tr_losses])"
      ],
      "execution_count": 0,
      "outputs": []
    },
    {
      "cell_type": "code",
      "metadata": {
        "id": "3U0pPksIRbhI",
        "colab_type": "code",
        "colab": {}
      },
      "source": [
        "plt.plot([t[0] for t in va_losses])"
      ],
      "execution_count": 0,
      "outputs": []
    },
    {
      "cell_type": "code",
      "metadata": {
        "id": "q6VQfq66RbhK",
        "colab_type": "code",
        "colab": {}
      },
      "source": [
        "plt.plot([t[1] for t in va_losses])"
      ],
      "execution_count": 0,
      "outputs": []
    },
    {
      "cell_type": "code",
      "metadata": {
        "id": "HVAg5k8MRbhL",
        "colab_type": "code",
        "colab": {}
      },
      "source": [
        "plt.plot([t[2] for t in va_losses])"
      ],
      "execution_count": 0,
      "outputs": []
    },
    {
      "cell_type": "code",
      "metadata": {
        "id": "E9v4mLPbRbhN",
        "colab_type": "code",
        "colab": {}
      },
      "source": [
        "torch.save(model.state_dict(), 'model.pth')"
      ],
      "execution_count": 0,
      "outputs": []
    },
    {
      "cell_type": "code",
      "metadata": {
        "id": "vvop2vYkRbhO",
        "colab_type": "code",
        "colab": {}
      },
      "source": [
        ""
      ],
      "execution_count": 0,
      "outputs": []
    }
  ]
}